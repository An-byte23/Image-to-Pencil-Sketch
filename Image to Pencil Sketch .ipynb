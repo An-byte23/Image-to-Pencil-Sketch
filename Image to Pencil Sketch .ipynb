{
 "cells": [
  {
   "cell_type": "code",
   "execution_count": 1,
   "id": "0fe1fdee",
   "metadata": {},
   "outputs": [],
   "source": [
    "# importing required libraries"
   ]
  },
  {
   "cell_type": "code",
   "execution_count": 2,
   "id": "b2fc9881",
   "metadata": {},
   "outputs": [],
   "source": [
    "import cv2\n",
    "import numpy as np\n",
    "import matplotlib.pyplot as plt\n",
    "# getty_178574231_2000133320009280121_365935.jpg"
   ]
  },
  {
   "cell_type": "code",
   "execution_count": 3,
   "id": "c6786f02",
   "metadata": {},
   "outputs": [],
   "source": [
    "# Showing image using cv2.imread method"
   ]
  },
  {
   "cell_type": "code",
   "execution_count": 4,
   "id": "f57b3362",
   "metadata": {},
   "outputs": [],
   "source": [
    "image = cv2.imread(r\"C:\\Users\\AI\\Downloads\\beautiful-happy-reddish-havanese-puppy-dog-sitting-frontal-looking-camera-isolated-white-background-46868560.jpg\")\n",
    "cv2.imshow(\"Image\",image)\n",
    "cv2.waitKey(0)\n",
    "cv2.destroyAllWindows()"
   ]
  },
  {
   "cell_type": "code",
   "execution_count": 5,
   "id": "94cd857f",
   "metadata": {},
   "outputs": [],
   "source": [
    "# converting the image from BGR format to GRAY format"
   ]
  },
  {
   "cell_type": "code",
   "execution_count": 6,
   "id": "34cfaa94",
   "metadata": {},
   "outputs": [],
   "source": [
    "# img = cv2.cvtColor(image,cv2.COLOR_BGR2RGB)\n",
    "grey_image = cv2.cvtColor(image,cv2.COLOR_BGR2GRAY)\n",
    "cv2.imshow(\"Greyscale_image\",grey_image)\n",
    "cv2.waitKey(0)\n",
    "cv2.destroyAllWindows()"
   ]
  },
  {
   "cell_type": "code",
   "execution_count": 7,
   "id": "bae40312",
   "metadata": {},
   "outputs": [],
   "source": [
    "# Inverting the grayscale image "
   ]
  },
  {
   "cell_type": "code",
   "execution_count": 8,
   "id": "077a9491",
   "metadata": {},
   "outputs": [],
   "source": [
    "inverted_image = 255 - grey_image\n",
    "cv2.imshow(\"Inverted_Image\",inverted_image)\n",
    "cv2.waitKey(0)\n",
    "cv2.destroyAllWindows()"
   ]
  },
  {
   "cell_type": "code",
   "execution_count": 9,
   "id": "4e048fec",
   "metadata": {},
   "outputs": [],
   "source": [
    " # BLurring the inverted image using gaussian blur"
   ]
  },
  {
   "cell_type": "code",
   "execution_count": 10,
   "id": "d117816e",
   "metadata": {},
   "outputs": [],
   "source": [
    "gaussian_blur = cv2.GaussianBlur(inverted_image,(25,25),0)\n",
    "cv2.imshow(\"gaussian_blur\",gaussian_blur)\n",
    "cv2.waitKey(0)\n",
    "cv2.destroyAllWindows()"
   ]
  },
  {
   "cell_type": "code",
   "execution_count": 11,
   "id": "f19f9cf8",
   "metadata": {},
   "outputs": [],
   "source": [
    "# Inverting the blurred image"
   ]
  },
  {
   "cell_type": "code",
   "execution_count": 12,
   "id": "ef527042",
   "metadata": {},
   "outputs": [],
   "source": [
    "blur_inverted = 255 - gaussian_blur\n",
    "cv2.imshow(\"blur_inverted\",blur_inverted)\n",
    "cv2.waitKey(0)\n",
    "cv2.destroyAllWindows()"
   ]
  },
  {
   "cell_type": "code",
   "execution_count": 13,
   "id": "d8fcdd70",
   "metadata": {},
   "outputs": [],
   "source": [
    "# creating the pencil sketch by mixing the grayscale image with the inverted blurry image"
   ]
  },
  {
   "cell_type": "code",
   "execution_count": 14,
   "id": "65b9a293",
   "metadata": {},
   "outputs": [],
   "source": [
    "divide = cv2.divide(grey_image,blur_inverted,scale=256)\n",
    "cv2.imshow(\"divide\",divide)\n",
    "cv2.waitKey(0)\n",
    "cv2.destroyAllWindows()"
   ]
  },
  {
   "cell_type": "code",
   "execution_count": 15,
   "id": "9b88abbf",
   "metadata": {},
   "outputs": [],
   "source": [
    "# cv2.imshow(\"Image\",image)\n",
    "cv2.imshow(\"divide\",divide)\n",
    "cv2.waitKey(0)\n",
    "cv2.destroyAllWindows()"
   ]
  },
  {
   "cell_type": "code",
   "execution_count": null,
   "id": "9a6a1f2e",
   "metadata": {},
   "outputs": [],
   "source": []
  }
 ],
 "metadata": {
  "kernelspec": {
   "display_name": "Python 3 (ipykernel)",
   "language": "python",
   "name": "python3"
  },
  "language_info": {
   "codemirror_mode": {
    "name": "ipython",
    "version": 3
   },
   "file_extension": ".py",
   "mimetype": "text/x-python",
   "name": "python",
   "nbconvert_exporter": "python",
   "pygments_lexer": "ipython3",
   "version": "3.9.7"
  }
 },
 "nbformat": 4,
 "nbformat_minor": 5
}
